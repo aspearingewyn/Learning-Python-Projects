{
  "nbformat": 4,
  "nbformat_minor": 0,
  "metadata": {
    "colab": {
      "name": "Untitled0.ipynb",
      "provenance": [],
      "collapsed_sections": [],
      "authorship_tag": "ABX9TyM0dC9okxWq09ZlDz2mq3+m",
      "include_colab_link": true
    },
    "kernelspec": {
      "name": "python3",
      "display_name": "Python 3"
    }
  },
  "cells": [
    {
      "cell_type": "markdown",
      "metadata": {
        "id": "view-in-github",
        "colab_type": "text"
      },
      "source": [
        "<a href=\"https://colab.research.google.com/github/aspearingewyn/Learning-Python-Projects/blob/main/TensorFlow%20Tutorial.ipynb\" target=\"_parent\"><img src=\"https://colab.research.google.com/assets/colab-badge.svg\" alt=\"Open In Colab\"/></a>"
      ]
    },
    {
      "cell_type": "code",
      "metadata": {
        "id": "C6jYmYcTvdgr"
      },
      "source": [
        "import tensorflow"
      ],
      "execution_count": 1,
      "outputs": []
    },
    {
      "cell_type": "code",
      "metadata": {
        "colab": {
          "base_uri": "https://localhost:8080/"
        },
        "id": "qUwPoLg9wQ1N",
        "outputId": "95cac55e-1e85-4e23-ede9-0600c706e87c"
      },
      "source": [
        "print(tensorflow.__version__)"
      ],
      "execution_count": 2,
      "outputs": [
        {
          "output_type": "stream",
          "text": [
            "2.4.1\n"
          ],
          "name": "stdout"
        }
      ]
    },
    {
      "cell_type": "code",
      "metadata": {
        "colab": {
          "base_uri": "https://localhost:8080/"
        },
        "id": "eiq49D9bwZdl",
        "outputId": "f057d052-34b6-4b76-b37b-6b3fb4c6a9e5"
      },
      "source": [
        "# https://colab.research.google.com/drive/10gioxAbI8rUGdfhTJQ535KeuseGWaXy3#scrollTo=eiq49D9bwZdl\r\n",
        "\r\n",
        "\r\n",
        "# mlp for binary classification\r\n",
        "from pandas import read_csv\r\n",
        "from sklearn.model_selection import train_test_split\r\n",
        "from sklearn.preprocessing import LabelEncoder\r\n",
        "from tensorflow.keras import Sequential\r\n",
        "from tensorflow.keras.layers import Dense\r\n",
        "\r\n",
        "# load the dataset\r\n",
        "path = 'https://raw.githubusercontent.com/jbrownlee/Datasets/master/ionosphere.csv'\r\n",
        "df = read_csv(path, header=None)\r\n",
        "\r\n",
        "# split into input and output columns\r\n",
        "X, y = df.values[:, :-1], df.values[:, -1]\r\n",
        "\r\n",
        "# ensure all data are floating point values\r\n",
        "X = X.astype('float32')\r\n",
        "\r\n",
        "# encode strings to integer\r\n",
        "y = LabelEncoder().fit_transform(y)\r\n",
        "\r\n",
        "# split into train and test datasets\r\n",
        "X_train, X_test, y_train, y_test = train_test_split(X, y, test_size=0.33)\r\n",
        "print(X_train.shape, X_test.shape, y_train.shape, y_test.shape)\r\n",
        "\r\n",
        "# determine the number of input features\r\n",
        "n_features = X_train.shape[1]\r\n",
        "\r\n",
        "# define model\r\n",
        "model = Sequential()\r\n",
        "model.add(Dense(10, activation='relu', kernel_initializer='he_normal', input_shape=(n_features,)))\r\n",
        "model.add(Dense(8, activation='relu', kernel_initializer='he_normal'))\r\n",
        "model.add(Dense(1, activation='sigmoid'))\r\n",
        "\r\n",
        "# compile the model\r\n",
        "model.compile(optimizer='adam', loss='binary_crossentropy', metrics=['accuracy'])\r\n",
        "\r\n",
        "# fit the model\r\n",
        "model.fit(X_train, y_train, epochs=150, batch_size=32, verbose=0)\r\n",
        "\r\n",
        "# evaluate the model\r\n",
        "loss, acc = model.evaluate(X_test, y_test, verbose=0)\r\n",
        "print('Test Accuracy: %.3f' % acc)\r\n",
        "\r\n",
        "# make a prediction\r\n",
        "row = [1,0,0.99539,-0.05889,0.85243,0.02306,0.83398,-0.37708,1,0.03760,0.85243,-0.17755,0.59755,-0.44945,0.60536,-0.38223,0.84356,-0.38542,0.58212,-0.32192,0.56971,-0.29674,0.36946,-0.47357,0.56811,-0.51171,0.41078,-0.46168,0.21266,-0.34090,0.42267,-0.54487,0.18641,-0.45300]\r\n",
        "yhat = model.predict([row])\r\n",
        "print('Predicted: %.3f' % yhat)"
      ],
      "execution_count": 8,
      "outputs": [
        {
          "output_type": "stream",
          "text": [
            "(235, 34) (116, 34) (235,) (116,)\n",
            "Test Accuracy: 0.922\n",
            "WARNING:tensorflow:5 out of the last 5 calls to <function Model.make_predict_function.<locals>.predict_function at 0x7fc5d50ffc80> triggered tf.function retracing. Tracing is expensive and the excessive number of tracings could be due to (1) creating @tf.function repeatedly in a loop, (2) passing tensors with different shapes, (3) passing Python objects instead of tensors. For (1), please define your @tf.function outside of the loop. For (2), @tf.function has experimental_relax_shapes=True option that relaxes argument shapes that can avoid unnecessary retracing. For (3), please refer to https://www.tensorflow.org/guide/function#controlling_retracing and https://www.tensorflow.org/api_docs/python/tf/function for  more details.\n",
            "Predicted: 0.988\n"
          ],
          "name": "stdout"
        }
      ]
    }
  ]
}